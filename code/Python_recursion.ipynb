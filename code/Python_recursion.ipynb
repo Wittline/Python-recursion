{
 "cells": [
  {
   "cell_type": "code",
   "execution_count": 60,
   "metadata": {
    "id": "RUuISa62Vc93"
   },
   "outputs": [],
   "source": [
    "import sys\n",
    "from functools import wraps\n"
   ]
  },
  {
   "cell_type": "code",
   "execution_count": 21,
   "metadata": {
    "id": "Qz2w8kx-ev8O"
   },
   "outputs": [],
   "source": [
    "def trace(func):\n",
    "\n",
    "    func_name = func.__name__\n",
    "    separator = '|  '\n",
    "\n",
    "    trace.recursion_depth = 0\n",
    "    @wraps(func)\n",
    "    def traced_func(*args, **kwargs):\n",
    "        print(f'{separator * trace.recursion_depth}|-- {func_name}({\", \".join(map(str, args))})')\n",
    "        trace.recursion_depth += 1\n",
    "        result = func(*args, **kwargs)\n",
    "        trace.recursion_depth -= 1\n",
    "        print(f'{separator * (trace.recursion_depth + 1)}|-- return {result}')\n",
    "\n",
    "        return result\n",
    "\n",
    "    return traced_func"
   ]
  },
  {
   "cell_type": "markdown",
   "metadata": {
    "id": "9Rg5d7J3f3yR"
   },
   "source": [
    "# Factorial"
   ]
  },
  {
   "cell_type": "code",
   "execution_count": 22,
   "metadata": {
    "id": "sX71J0gPWjG3"
   },
   "outputs": [],
   "source": [
    "def factorial_iterative_while(n):\n",
    "    result = 1\n",
    "    while n>= 1:\n",
    "        result *= n\n",
    "        n-= 1\n",
    "    return result\n",
    "\n",
    "def factorial_recursive(n):    \n",
    "    if n <= 1:\n",
    "       return  1\n",
    "    else:\n",
    "        return n * factorial_recursive(n-1)    "
   ]
  },
  {
   "cell_type": "code",
   "execution_count": 23,
   "metadata": {
    "colab": {
     "base_uri": "https://localhost:8080/"
    },
    "id": "FhF0aov0W8mU",
    "outputId": "237a763d-576b-4e2a-ab9e-9dbceb038ac5"
   },
   "outputs": [
    {
     "name": "stdout",
     "output_type": "stream",
     "text": [
      "120\n",
      "|-- factorial_recursive(5)\n",
      "|  |-- factorial_recursive(4)\n",
      "|  |  |-- factorial_recursive(3)\n",
      "|  |  |  |-- factorial_recursive(2)\n",
      "|  |  |  |  |-- factorial_recursive(1)\n",
      "|  |  |  |  |  |-- return 1\n",
      "|  |  |  |  |-- return 2\n",
      "|  |  |  |-- return 6\n",
      "|  |  |-- return 24\n",
      "|  |-- return 120\n",
      "120\n"
     ]
    }
   ],
   "source": [
    "print(factorial_iterative_while(5))\n",
    "\n",
    "factorial_recursive = trace(factorial_recursive)\n",
    "print(factorial_recursive(5))"
   ]
  },
  {
   "cell_type": "markdown",
   "metadata": {
    "id": "-0LOBcXMf7wL"
   },
   "source": [
    "# Fibonacci sequence"
   ]
  },
  {
   "cell_type": "code",
   "execution_count": 24,
   "metadata": {
    "id": "VBCIJXXgf2XU"
   },
   "outputs": [],
   "source": [
    "def fibonacci_iterative(n):\n",
    "    a, b = 0, 1\n",
    "    for i in range(n):\n",
    "        a, b = b, a + b\n",
    "    return a\n",
    "\n",
    "def fibonacci_recursive(n):\n",
    "    if n < 2:\n",
    "        return n\n",
    "    return fibonacci_recursive(n - 1) + fibonacci_recursive( n - 2 )    "
   ]
  },
  {
   "cell_type": "code",
   "execution_count": 25,
   "metadata": {
    "colab": {
     "base_uri": "https://localhost:8080/"
    },
    "id": "8g7UWAhrg7YZ",
    "outputId": "9d582898-eae7-47d6-99a1-49cec4414aec"
   },
   "outputs": [
    {
     "name": "stdout",
     "output_type": "stream",
     "text": [
      "8\n",
      "|-- fibonacci_recursive(6)\n",
      "|  |-- fibonacci_recursive(5)\n",
      "|  |  |-- fibonacci_recursive(4)\n",
      "|  |  |  |-- fibonacci_recursive(3)\n",
      "|  |  |  |  |-- fibonacci_recursive(2)\n",
      "|  |  |  |  |  |-- fibonacci_recursive(1)\n",
      "|  |  |  |  |  |  |-- return 1\n",
      "|  |  |  |  |  |-- fibonacci_recursive(0)\n",
      "|  |  |  |  |  |  |-- return 0\n",
      "|  |  |  |  |  |-- return 1\n",
      "|  |  |  |  |-- fibonacci_recursive(1)\n",
      "|  |  |  |  |  |-- return 1\n",
      "|  |  |  |  |-- return 2\n",
      "|  |  |  |-- fibonacci_recursive(2)\n",
      "|  |  |  |  |-- fibonacci_recursive(1)\n",
      "|  |  |  |  |  |-- return 1\n",
      "|  |  |  |  |-- fibonacci_recursive(0)\n",
      "|  |  |  |  |  |-- return 0\n",
      "|  |  |  |  |-- return 1\n",
      "|  |  |  |-- return 3\n",
      "|  |  |-- fibonacci_recursive(3)\n",
      "|  |  |  |-- fibonacci_recursive(2)\n",
      "|  |  |  |  |-- fibonacci_recursive(1)\n",
      "|  |  |  |  |  |-- return 1\n",
      "|  |  |  |  |-- fibonacci_recursive(0)\n",
      "|  |  |  |  |  |-- return 0\n",
      "|  |  |  |  |-- return 1\n",
      "|  |  |  |-- fibonacci_recursive(1)\n",
      "|  |  |  |  |-- return 1\n",
      "|  |  |  |-- return 2\n",
      "|  |  |-- return 5\n",
      "|  |-- fibonacci_recursive(4)\n",
      "|  |  |-- fibonacci_recursive(3)\n",
      "|  |  |  |-- fibonacci_recursive(2)\n",
      "|  |  |  |  |-- fibonacci_recursive(1)\n",
      "|  |  |  |  |  |-- return 1\n",
      "|  |  |  |  |-- fibonacci_recursive(0)\n",
      "|  |  |  |  |  |-- return 0\n",
      "|  |  |  |  |-- return 1\n",
      "|  |  |  |-- fibonacci_recursive(1)\n",
      "|  |  |  |  |-- return 1\n",
      "|  |  |  |-- return 2\n",
      "|  |  |-- fibonacci_recursive(2)\n",
      "|  |  |  |-- fibonacci_recursive(1)\n",
      "|  |  |  |  |-- return 1\n",
      "|  |  |  |-- fibonacci_recursive(0)\n",
      "|  |  |  |  |-- return 0\n",
      "|  |  |  |-- return 1\n",
      "|  |  |-- return 3\n",
      "|  |-- return 8\n",
      "8\n"
     ]
    }
   ],
   "source": [
    "print(fibonacci_iterative(6))\n",
    "\n",
    "fibonacci_recursive = trace(fibonacci_recursive)\n",
    "print(fibonacci_recursive(6))"
   ]
  },
  {
   "cell_type": "markdown",
   "metadata": {
    "id": "BliaJIrrhVe6"
   },
   "source": [
    "#Recursive SUM"
   ]
  },
  {
   "cell_type": "code",
   "execution_count": 30,
   "metadata": {
    "id": "fv_ZU-o8hU5d"
   },
   "outputs": [],
   "source": [
    "def list_sum_iterative(l):\n",
    "    result = 0\n",
    "    for v in l:\n",
    "        result += v\n",
    "    return result\n",
    "\n",
    "def list_sum_recursive(l):\n",
    "    if len(l) == 0:\n",
    "        return 0\n",
    "    return l[0] + list_sum_recursive(l[1:])\n"
   ]
  },
  {
   "cell_type": "code",
   "execution_count": 32,
   "metadata": {
    "colab": {
     "base_uri": "https://localhost:8080/"
    },
    "id": "E9Wyqpp_iTaL",
    "outputId": "c7af249f-bcce-4edc-ce25-8730d2858d69"
   },
   "outputs": [
    {
     "name": "stdout",
     "output_type": "stream",
     "text": [
      "17\n",
      "|-- list_sum_recursive([2, 4, 5, 6])\n",
      "|  |-- list_sum_recursive([4, 5, 6])\n",
      "|  |  |-- list_sum_recursive([5, 6])\n",
      "|  |  |  |-- list_sum_recursive([6])\n",
      "|  |  |  |  |-- list_sum_recursive([])\n",
      "|  |  |  |  |  |-- return 0\n",
      "|  |  |  |  |-- return 6\n",
      "|  |  |  |-- return 11\n",
      "|  |  |-- return 15\n",
      "|  |-- return 17\n",
      "17\n"
     ]
    }
   ],
   "source": [
    "print(list_sum_iterative([2,4,5,6]))\n",
    "\n",
    "list_sum_recursive = trace(list_sum_recursive)\n",
    "print(list_sum_recursive([2,4,5,6]))"
   ]
  },
  {
   "cell_type": "markdown",
   "metadata": {
    "id": "M71zZzm-ilWx"
   },
   "source": [
    "#Recursive greatest commom divisor"
   ]
  },
  {
   "cell_type": "code",
   "execution_count": 33,
   "metadata": {
    "id": "tEoi7Oa3irYx"
   },
   "outputs": [],
   "source": [
    "def GCD_recursive(a, b):\n",
    "    if b == 0:\n",
    "        return a\n",
    "    else:\n",
    "        return GCD_recursive(b, a % b)"
   ]
  },
  {
   "cell_type": "code",
   "execution_count": 34,
   "metadata": {
    "colab": {
     "base_uri": "https://localhost:8080/"
    },
    "id": "940XPzGDjp4G",
    "outputId": "d3873cb1-a208-4e46-8331-a211c336c28d"
   },
   "outputs": [
    {
     "name": "stdout",
     "output_type": "stream",
     "text": [
      "|-- GCD_recursive(32, 12)\n",
      "|  |-- GCD_recursive(12, 8)\n",
      "|  |  |-- GCD_recursive(8, 4)\n",
      "|  |  |  |-- GCD_recursive(4, 0)\n",
      "|  |  |  |  |-- return 4\n",
      "|  |  |  |-- return 4\n",
      "|  |  |-- return 4\n",
      "|  |-- return 4\n",
      "4\n"
     ]
    }
   ],
   "source": [
    "GCD_recursive = trace(GCD_recursive)\n",
    "print(GCD_recursive(32, 12))"
   ]
  },
  {
   "cell_type": "markdown",
   "metadata": {
    "id": "m4DMABobkLXK"
   },
   "source": [
    "#Recursive multiplication"
   ]
  },
  {
   "cell_type": "code",
   "execution_count": 35,
   "metadata": {
    "id": "RaK12tVwkNtK"
   },
   "outputs": [],
   "source": [
    "def multiply_recursive(n, a):\n",
    "    if n == 1:\n",
    "        return a\n",
    "    return multiply_recursive(n-1, a) + a"
   ]
  },
  {
   "cell_type": "code",
   "execution_count": 36,
   "metadata": {
    "colab": {
     "base_uri": "https://localhost:8080/"
    },
    "id": "7KR3zCk2kxH4",
    "outputId": "c1b3fe2d-f21c-4f6d-de6d-91735290d30c"
   },
   "outputs": [
    {
     "name": "stdout",
     "output_type": "stream",
     "text": [
      "|-- multiply_recursive(5, 4)\n",
      "|  |-- multiply_recursive(4, 4)\n",
      "|  |  |-- multiply_recursive(3, 4)\n",
      "|  |  |  |-- multiply_recursive(2, 4)\n",
      "|  |  |  |  |-- multiply_recursive(1, 4)\n",
      "|  |  |  |  |  |-- return 4\n",
      "|  |  |  |  |-- return 8\n",
      "|  |  |  |-- return 12\n",
      "|  |  |-- return 16\n",
      "|  |-- return 20\n",
      "20\n"
     ]
    }
   ],
   "source": [
    "multiply_recursive = trace(multiply_recursive)\n",
    "print(multiply_recursive(5, 4))"
   ]
  },
  {
   "cell_type": "markdown",
   "metadata": {
    "id": "GA1JyADRk0_s"
   },
   "source": [
    "# Recursive exponentiation "
   ]
  },
  {
   "cell_type": "code",
   "execution_count": 37,
   "metadata": {
    "id": "1rlo-cU-k5CV"
   },
   "outputs": [],
   "source": [
    "def exp_iterative(a, n):\n",
    "    base = a\n",
    "    for i in range(n-1):\n",
    "        a *= base\n",
    "    return a        \n",
    "\n",
    "def exp_recursive(a, n):\n",
    "    if n == 1:\n",
    "        return a\n",
    "    return exp_recursive(a, n-1) * a"
   ]
  },
  {
   "cell_type": "code",
   "execution_count": 39,
   "metadata": {
    "colab": {
     "base_uri": "https://localhost:8080/"
    },
    "id": "fEBXwAWzk-ac",
    "outputId": "0e339a97-c9bd-4c6b-92a7-19c5e3628767"
   },
   "outputs": [
    {
     "name": "stdout",
     "output_type": "stream",
     "text": [
      "|-- exp_recursive(3, 3)\n",
      "|  |-- exp_recursive(3, 3)\n",
      "|  |  |-- exp_recursive(3, 2)\n",
      "|  |  |  |-- exp_recursive(3, 2)\n",
      "|  |  |  |  |-- exp_recursive(3, 1)\n",
      "|  |  |  |  |  |-- exp_recursive(3, 1)\n",
      "|  |  |  |  |  |  |-- return 3\n",
      "|  |  |  |  |  |-- return 3\n",
      "|  |  |  |  |-- return 9\n",
      "|  |  |  |-- return 9\n",
      "|  |  |-- return 27\n",
      "|  |-- return 27\n",
      "27\n"
     ]
    }
   ],
   "source": [
    "exp_recursive = trace(exp_recursive)\n",
    "print(exp_recursive(3, 3))"
   ]
  },
  {
   "cell_type": "markdown",
   "metadata": {
    "id": "ChjdWLoHlo7N"
   },
   "source": [
    "# String length recursive"
   ]
  },
  {
   "cell_type": "code",
   "execution_count": 40,
   "metadata": {
    "id": "3IA37nlglr13"
   },
   "outputs": [],
   "source": [
    "def iterative_str_len(s):\n",
    "    result = 0\n",
    "    for i in range(len(s)):\n",
    "        result += 1\n",
    "    return result\n",
    "\n",
    "def recursive_str_len(s):\n",
    "    if s == \"\":\n",
    "        return 0\n",
    "    return recursive_str_len(s[1:]) + 1"
   ]
  },
  {
   "cell_type": "code",
   "execution_count": 41,
   "metadata": {
    "colab": {
     "base_uri": "https://localhost:8080/"
    },
    "id": "0dIGBtbVmtYZ",
    "outputId": "ebc7fcb9-918b-48ed-ac3d-8af7257a7514"
   },
   "outputs": [
    {
     "name": "stdout",
     "output_type": "stream",
     "text": [
      "|-- recursive_str_len(hola)\n",
      "|  |-- recursive_str_len(ola)\n",
      "|  |  |-- recursive_str_len(la)\n",
      "|  |  |  |-- recursive_str_len(a)\n",
      "|  |  |  |  |-- recursive_str_len()\n",
      "|  |  |  |  |  |-- return 0\n",
      "|  |  |  |  |-- return 1\n",
      "|  |  |  |-- return 2\n",
      "|  |  |-- return 3\n",
      "|  |-- return 4\n",
      "4\n"
     ]
    }
   ],
   "source": [
    "recursive_str_len = trace(recursive_str_len)\n",
    "print(recursive_str_len('hola'))"
   ]
  },
  {
   "cell_type": "markdown",
   "metadata": {
    "id": "RGCQGhPKm5pB"
   },
   "source": [
    "# Quicksort algorithm"
   ]
  },
  {
   "cell_type": "code",
   "execution_count": 47,
   "metadata": {
    "id": "uBg2pTg2m4tn"
   },
   "outputs": [],
   "source": [
    "def quicksort(a):\n",
    "    if len(a) <= 1:\n",
    "        return a\n",
    "    pivot = a[len(a) // 2]\n",
    "    left = [x for x in a if x < pivot]\n",
    "    middle = [x for x in a if x == pivot]\n",
    "    right = [x for x in a if x > pivot]\n",
    "\n",
    "    return quicksort(left) + middle + quicksort(right)"
   ]
  },
  {
   "cell_type": "code",
   "execution_count": 48,
   "metadata": {
    "colab": {
     "base_uri": "https://localhost:8080/"
    },
    "id": "-kvKMg6ds3J6",
    "outputId": "86a84a01-b625-4317-c7ca-6fdaaaf5ecbf"
   },
   "outputs": [
    {
     "name": "stdout",
     "output_type": "stream",
     "text": [
      "|-- quicksort([2, 1, 6, 5])\n",
      "|  |-- quicksort([2, 1, 5])\n",
      "|  |  |-- quicksort([])\n",
      "|  |  |  |-- return []\n",
      "|  |  |-- quicksort([2, 5])\n",
      "|  |  |  |-- quicksort([2])\n",
      "|  |  |  |  |-- return [2]\n",
      "|  |  |  |-- quicksort([])\n",
      "|  |  |  |  |-- return []\n",
      "|  |  |  |-- return [2, 5]\n",
      "|  |  |-- return [1, 2, 5]\n",
      "|  |-- quicksort([])\n",
      "|  |  |-- return []\n",
      "|  |-- return [1, 2, 5, 6]\n",
      "[1, 2, 5, 6]\n"
     ]
    }
   ],
   "source": [
    "quicksort = trace(quicksort)\n",
    "print(quicksort([2,1,6,5]))"
   ]
  },
  {
   "cell_type": "markdown",
   "metadata": {
    "id": "WGc-b9n2tspr"
   },
   "source": [
    "#Traversing Linked List"
   ]
  },
  {
   "cell_type": "code",
   "execution_count": 50,
   "metadata": {
    "colab": {
     "base_uri": "https://localhost:8080/"
    },
    "id": "By2w2lIPt1Lw",
    "outputId": "62240537-3135-4265-e0d2-113c729206a0"
   },
   "outputs": [
    {
     "name": "stdout",
     "output_type": "stream",
     "text": [
      "dog\n",
      "cat\n",
      "rat\n",
      "dog\n",
      "Cat\n",
      "rat\n"
     ]
    }
   ],
   "source": [
    "class Node:\n",
    "    def __init__(self, data, next=None):\n",
    "        self.data = data\n",
    "        self.next = next\n",
    "\n",
    "def traverse(head):\n",
    "    if head is None:\n",
    "        return \n",
    "    print(head.data)\n",
    "    traverse(head.next)\n",
    "\n",
    "\n",
    "item1 = Node('dog')\n",
    "item2 = Node('cat')\n",
    "item3 = Node('rat')\n",
    "\n",
    "item1.next= item2\n",
    "item2.next = item3\n",
    "\n",
    "traverse(item1)\n",
    "\n",
    "head = Node(\"dog\", Node('cat', Node('rat', None)))\n",
    "\n",
    "traverse(head)"
   ]
  },
  {
   "cell_type": "markdown",
   "metadata": {
    "id": "cYsUrOaVviTD"
   },
   "source": [
    "# Traversing Trees"
   ]
  },
  {
   "cell_type": "code",
   "execution_count": 53,
   "metadata": {
    "colab": {
     "base_uri": "https://localhost:8080/"
    },
    "id": "m6N7UjdtvoNt",
    "outputId": "ab8207d3-9e74-422c-e369-c696221ca953"
   },
   "outputs": [
    {
     "name": "stdout",
     "output_type": "stream",
     "text": [
      "Preorder F-D-B-C-E-I-G-H-J-\n",
      "Inorder B-C-D-E-F-G-H-I-J-\n",
      "Postorder C-B-E-D-H-G-J-I-F-\n"
     ]
    }
   ],
   "source": [
    "class Node:\n",
    "    def __init__(self, data):\n",
    "        self.data = data\n",
    "        self.left = None\n",
    "        self.right = None\n",
    "\n",
    "def preorder(root, path =''):\n",
    "    if root:\n",
    "        path += str(root.data) + '-'\n",
    "        path =  preorder(root.left, path)\n",
    "        path =  preorder(root.right, path)\n",
    "    return path\n",
    "\n",
    "def inorder(root, path =''):\n",
    "    if root:\n",
    "        path =  inorder(root.left, path)\n",
    "        path += str(root.data) + '-'\n",
    "        path =  inorder(root.right, path)\n",
    "    return path\n",
    "\n",
    "def postorder(root, path =''):\n",
    "    if root:\n",
    "        path =  postorder(root.left, path)\n",
    "        path =  postorder(root.right, path)\n",
    "        path += str(root.data) + '-'\n",
    "    return path\n",
    "\n",
    "\n",
    "if __name__ == '__main__':\n",
    "\n",
    "    root = Node('F')\n",
    "    root.left = Node('D')\n",
    "    root.left.left = Node('B')\n",
    "    root.left.left.right = Node('C')\n",
    "    root.left.right = Node('E')\n",
    "    root.right = Node('I')\n",
    "    root.right.left = Node('G')\n",
    "    root.right.left.right = Node('H')\n",
    "    root.right.right = Node('J')\n",
    "\n",
    "\n",
    "print(\"Preorder\", preorder(root))    \n",
    "print(\"Inorder\",inorder(root))\n",
    "print(\"Postorder\", postorder(root))"
   ]
  },
  {
   "cell_type": "markdown",
   "metadata": {
    "id": "gW2-wWvj3bYn"
   },
   "source": [
    "#Towers Hanoi\n"
   ]
  },
  {
   "cell_type": "code",
   "execution_count": 59,
   "metadata": {
    "colab": {
     "base_uri": "https://localhost:8080/"
    },
    "id": "9msvJSyy6BJ7",
    "outputId": "de0c1fe8-63c9-4639-d620-bb00b72ee594"
   },
   "outputs": [
    {
     "name": "stdout",
     "output_type": "stream",
     "text": [
      "Move disk 1 from source A to destination C\n",
      "Move disk 2 from source A to destination B\n",
      "Move disk 1 from source C to destination B\n",
      "Move disk 3 from source A to destination C\n",
      "Move disk 1 from source B to destination A\n",
      "Move disk 2 from source B to destination C\n",
      "Move disk 1 from source A to destination C\n"
     ]
    }
   ],
   "source": [
    "def towers_hanoi(n, source, destination, aux):\n",
    "    if n == 1:\n",
    "        print(\"Move disk 1 from source\", source, 'to destination', destination)\n",
    "        return\n",
    "    towers_hanoi(n-1, source, aux, destination)\n",
    "    print(\"Move disk\", n,  \"from source\", source, 'to destination', destination)\n",
    "    towers_hanoi(n-1, aux, destination, source)\n",
    "    \n",
    "n = 3\n",
    "towers_hanoi(n, 'A', 'C', 'B')    "
   ]
  }
 ],
 "metadata": {
  "colab": {
   "collapsed_sections": [],
   "name": "Python_recursion.ipynb",
   "provenance": []
  },
  "kernelspec": {
   "display_name": "Python 3",
   "language": "python",
   "name": "python3"
  },
  "language_info": {
   "codemirror_mode": {
    "name": "ipython",
    "version": 3
   },
   "file_extension": ".py",
   "mimetype": "text/x-python",
   "name": "python",
   "nbconvert_exporter": "python",
   "pygments_lexer": "ipython3",
   "version": "3.6.5"
  }
 },
 "nbformat": 4,
 "nbformat_minor": 1
}
